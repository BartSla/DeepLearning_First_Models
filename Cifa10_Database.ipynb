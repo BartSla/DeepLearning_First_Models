{
  "nbformat": 4,
  "nbformat_minor": 0,
  "metadata": {
    "colab": {
      "name": "DAY4.ipynb",
      "version": "0.3.2",
      "provenance": [],
      "collapsed_sections": [],
      "include_colab_link": true
    },
    "kernelspec": {
      "name": "python3",
      "display_name": "Python 3"
    },
    "accelerator": "TPU"
  },
  "cells": [
    {
      "cell_type": "markdown",
      "metadata": {
        "id": "view-in-github",
        "colab_type": "text"
      },
      "source": [
        "<a href=\"https://colab.research.google.com/github/BartSla/DeepLearning_First_Models/blob/master/Cifa10_Database.ipynb\" target=\"_parent\"><img src=\"https://colab.research.google.com/assets/colab-badge.svg\" alt=\"Open In Colab\"/></a>"
      ]
    },
    {
      "metadata": {
        "id": "CNdL8j_wptir",
        "colab_type": "code",
        "colab": {}
      },
      "cell_type": "code",
      "source": [
        "import tensorflow as tf\n",
        "import os\n",
        "\n",
        "from tensorflow.python.keras.datasets import cifar10\n",
        "from tensorflow.python.keras.models import Sequential\n",
        "from tensorflow.python.keras.layers import Dense, Dropout, Flatten, Conv2D, MaxPool2D\n",
        "from tensorflow.python.keras.utils import to_categorical\n",
        "\n",
        "import numpy as np\n",
        "np.random.seed(0)\n",
        "\n",
        "import matplotlib.pyplot as plt\n",
        "%matplotlib inline"
      ],
      "execution_count": 0,
      "outputs": []
    },
    {
      "metadata": {
        "id": "lZXf58LBp3xG",
        "colab_type": "code",
        "colab": {}
      },
      "cell_type": "code",
      "source": [
        "(X_train, y_train), (X_test, y_test) = cifar10.load_data()\n",
        "X_train.shape, X_test.shape"
      ],
      "execution_count": 0,
      "outputs": []
    },
    {
      "metadata": {
        "id": "fjCE4X2sp7J4",
        "colab_type": "code",
        "colab": {}
      },
      "cell_type": "code",
      "source": [
        "img_rows, img_cols = X_train.shape[1], X_train.shape[2]\n",
        "\n",
        "num_channels = 3\n",
        "\n",
        "X_train = X_train.reshape(-1, img_rows, img_cols, num_channels)\n",
        "X_test = X_test.reshape(-1, img_rows, img_cols, num_channels)\n",
        "input_shape = (img_rows, img_cols, num_channels)\n",
        "\n",
        "X_train.shape, X_test.shape"
      ],
      "execution_count": 0,
      "outputs": []
    },
    {
      "metadata": {
        "id": "8qRlJfMzp9pW",
        "colab_type": "code",
        "colab": {}
      },
      "cell_type": "code",
      "source": [
        "if np.max(X_train) > 1 : X_train = X_train / 255\n",
        "if np.max(X_test) > 1 : X_test = X_test / 255"
      ],
      "execution_count": 0,
      "outputs": []
    },
    {
      "metadata": {
        "id": "c4gnFriwqAJK",
        "colab_type": "code",
        "colab": {}
      },
      "cell_type": "code",
      "source": [
        "if len (y_train.shape) == 2:\n",
        "  y_train = y_train.reshape(-1)\n",
        "  y_tesr = y_test.reshape(-1)\n",
        "  \n",
        "if len (y_train.shape) == 1:\n",
        "    num_classes = len(set(y_train))\n",
        "    y_train = to_categorical(y_train, num_classes)\n",
        "    y_test = to_categorical(y_test, num_classes)"
      ],
      "execution_count": 0,
      "outputs": []
    },
    {
      "metadata": {
        "id": "PaPkcK19qCfU",
        "colab_type": "code",
        "colab": {}
      },
      "cell_type": "code",
      "source": [
        "model = Sequential([\n",
        "    Conv2D(filters=64, kernel_size=(3,3), activation = 'relu', input_shape=input_shape),\n",
        "    Conv2D(filters=64, kernel_size=(3,3), activation = 'relu'),\n",
        "    MaxPool2D (pool_size=(2,2)),\n",
        "    Dropout(0.25),\n",
        "    \n",
        "    Conv2D(filters=128, kernel_size=(3,3), activation = 'relu'),\n",
        "    Conv2D(filters=128, kernel_size=(3,3), activation = 'relu'),\n",
        "    MaxPool2D (pool_size=(2,2)),\n",
        "    \n",
        "    Conv2D(filters=256, kernel_size=(3,3), activation = 'relu'),\n",
        "    MaxPool2D (pool_size=(2,2)),\n",
        "    Dropout(0.25),\n",
        "    \n",
        "    Flatten(),\n",
        "    Dense(1024, activation = 'relu'),\n",
        "    Dropout(0.50),\n",
        "    Dense(num_classes, activation = 'softmax')\n",
        "])\n",
        "model.compile(loss= 'categorical_crossentropy',  optimizer='adam', metrics = ['accuracy'] )\n",
        "#model.summary()"
      ],
      "execution_count": 0,
      "outputs": []
    },
    {
      "metadata": {
        "id": "ewzCMDAoyk6W",
        "colab_type": "code",
        "colab": {}
      },
      "cell_type": "code",
      "source": [
        "TPU_WORKER = 'grpc://' + os.environ['COLAB_TPU_ADDR']\n",
        "tf.logging.set_verbosity(tf.logging.INFO)"
      ],
      "execution_count": 0,
      "outputs": []
    },
    {
      "metadata": {
        "id": "Lbo7aTcGzX4p",
        "colab_type": "code",
        "colab": {}
      },
      "cell_type": "code",
      "source": [
        "tpu_model = tf.contrib.tpu.keras_to_tpu_model(\n",
        "    model,\n",
        "    strategy=tf.contrib.tpu.TPUDistributionStrategy(\n",
        "      tf.contrib.cluster_resolver.TPUClusterResolver(TPU_WORKER)))"
      ],
      "execution_count": 0,
      "outputs": []
    },
    {
      "metadata": {
        "id": "IWgNPlkPqFIu",
        "colab_type": "code",
        "colab": {}
      },
      "cell_type": "code",
      "source": [
        "tpu_model.fit(\n",
        "    X_train, y_train,\n",
        "    epochs=20,\n",
        "    batch_size=128*8,\n",
        "    verbose=2,\n",
        "    validation_data=(X_test, y_test)    \n",
        ")"
      ],
      "execution_count": 0,
      "outputs": []
    },
    {
      "metadata": {
        "id": "bebfLdrrqHtL",
        "colab_type": "code",
        "colab": {}
      },
      "cell_type": "code",
      "source": [
        "score = tpu_model.evaluate(X_test, y_test, verbose=0)"
      ],
      "execution_count": 0,
      "outputs": []
    },
    {
      "metadata": {
        "id": "cknjiEHQqKl-",
        "colab_type": "code",
        "colab": {}
      },
      "cell_type": "code",
      "source": [
        "score"
      ],
      "execution_count": 0,
      "outputs": []
    }
  ]
}